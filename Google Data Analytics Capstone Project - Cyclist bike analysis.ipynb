{
 "cells": [
  {
   "cell_type": "code",
   "execution_count": null,
   "id": "21f10ab8",
   "metadata": {},
   "outputs": [],
   "source": [
    "import pandas as pd "
   ]
  },
  {
   "cell_type": "code",
   "execution_count": null,
   "id": "f103a290",
   "metadata": {},
   "outputs": [],
   "source": [
    "# Bike Data of Year 2021\n",
    "jan= pd.read_csv(\"202101-divvy-tripdata.csv\")\n",
    "feb= pd.read_csv(\"202102-divvy-tripdata.csv\")\n",
    "march= pd.read_csv(\"202103-divvy-tripdata.csv\")\n",
    "april= pd.read_csv(\"202104-divvy-tripdata.csv\")\n",
    "may= pd.read_csv(\"202105-divvy-tripdata.csv\")\n",
    "june= pd.read_csv(\"202106-divvy-tripdata.csv\")\n",
    "july= pd.read_csv(\"202107-divvy-tripdata.csv\")\n",
    "aug= pd.read_csv(\"202108-divvy-tripdata.csv\")\n",
    "sep= pd.read_csv(\"202109-divvy-tripdata.csv\")\n",
    "octo= pd.read_csv(\"202110-divvy-tripdata.csv\")\n",
    "nov= pd.read_csv(\"202111-divvy-tripdata.csv\")\n",
    "dec= pd.read_csv(\"202112-divvy-tripdata.csv\")"
   ]
  },
  {
   "cell_type": "code",
   "execution_count": null,
   "id": "0649e5af",
   "metadata": {},
   "outputs": [],
   "source": [
    "# Merging dataframe \n",
    "data_frames = [jan, feb, march,april,may,june,july,aug,sep,octo,nov,dec]\n",
    " \n",
    "df = pd.concat(data_frames)\n",
    "# df.head()"
   ]
  },
  {
   "cell_type": "code",
   "execution_count": null,
   "id": "392cff65",
   "metadata": {},
   "outputs": [],
   "source": [
    "# Dropping irrevelant columns\n",
    "df = df.drop(['ride_id','start_station_id', 'end_station_name','end_station_id', 'start_lat', 'start_lng', 'end_lat', 'end_lng'],axis=1)"
   ]
  },
  {
   "cell_type": "code",
   "execution_count": null,
   "id": "409eed2d",
   "metadata": {},
   "outputs": [],
   "source": [
    "# Checking the datatype\n",
    "df.dtypes"
   ]
  },
  {
   "cell_type": "code",
   "execution_count": null,
   "id": "89adaef1",
   "metadata": {},
   "outputs": [],
   "source": [
    "# Typecasting the started_at and ended_at column to find ride length\n",
    "df[\"started_at\"] = pd.to_datetime(df[\"started_at\"])\n",
    "df[\"ended_at\"] = pd.to_datetime(df[\"ended_at\"])\n",
    "\n",
    "# Calculating the ride length \n",
    "df[\"ride_length\"]= df[\"ended_at\"] - df[\"started_at\"]"
   ]
  },
  {
   "cell_type": "code",
   "execution_count": null,
   "id": "8dc1cd19",
   "metadata": {},
   "outputs": [],
   "source": [
    "# Extracting time, date, day name and month from started_at column\n",
    "df[\"start_time\"] = df['started_at'].dt.time\n",
    "df[\"start_date\"] = df['started_at'].dt.date\n",
    "df[\"weekday_name\"]= df['started_at'].dt.day_name()\n",
    "df['month'] = df['started_at'].dt.month_name()"
   ]
  },
  {
   "cell_type": "code",
   "execution_count": null,
   "id": "0c2daea3",
   "metadata": {},
   "outputs": [],
   "source": [
    "# Creating list to add time blocks\n",
    "l = []\n",
    "\n",
    "for i in df[\"start_time\"]:\n",
    "    if str(i) < '06:00:00':\n",
    "        l.append(\"Night\")   \n",
    "    elif str(i) < '12:00:00':\n",
    "        l.append(\"Morning\")   \n",
    "    elif str(i) < '18:00:00':\n",
    "        l.append(\"Afternoon\")\n",
    "    else:\n",
    "        l.append(\"Evening\")\n",
    "        \n",
    "df[\"Time of the Day\"] = l"
   ]
  },
  {
   "cell_type": "code",
   "execution_count": null,
   "id": "0998ed21",
   "metadata": {},
   "outputs": [],
   "source": [
    "# Removing rows if starting time is greater than ending time \n",
    "z = df[df[\"ended_at\"] < df[\"started_at\"]].index\n",
    "df.drop(z,inplace=True)"
   ]
  },
  {
   "cell_type": "code",
   "execution_count": null,
   "id": "45119ad7",
   "metadata": {},
   "outputs": [],
   "source": [
    "# Sorting the dataframe by start date and start time  \n",
    "df.sort_values(by=['start_date','start_time'],inplace= True)"
   ]
  },
  {
   "cell_type": "code",
   "execution_count": null,
   "id": "6fc208f7",
   "metadata": {},
   "outputs": [],
   "source": [
    "# Checking all the edits done in a correct way\n",
    "df.head()"
   ]
  },
  {
   "cell_type": "code",
   "execution_count": null,
   "id": "2332e628",
   "metadata": {},
   "outputs": [],
   "source": [
    "# Checking null values in the desired column like started_at,ended_at, etc\n",
    "df.isnull().sum()"
   ]
  },
  {
   "cell_type": "code",
   "execution_count": null,
   "id": "f17f9735",
   "metadata": {},
   "outputs": [],
   "source": [
    "# Removing duplicate rows in the dataframe if found \n",
    "if df.duplicated().any():\n",
    "    df.drop_duplicates(keep='first',inplace=True)"
   ]
  },
  {
   "cell_type": "code",
   "execution_count": null,
   "id": "6074fc4c",
   "metadata": {},
   "outputs": [],
   "source": [
    "# Number of rides taken \n",
    "df.groupby(\"member_casual\")[\"ride_length\"].count()"
   ]
  },
  {
   "cell_type": "code",
   "execution_count": null,
   "id": "b1053403",
   "metadata": {},
   "outputs": [],
   "source": [
    "# Number of rides by weekdays \n",
    "df.groupby([\"member_casual\",\"weekday_name\"])[\"ride_length\"].count()"
   ]
  },
  {
   "cell_type": "code",
   "execution_count": null,
   "id": "41bf7d37",
   "metadata": {},
   "outputs": [],
   "source": [
    "# Mean ride time \n",
    "df.groupby(\"member_casual\")[\"ride_length\"].mean()"
   ]
  },
  {
   "cell_type": "code",
   "execution_count": null,
   "id": "78085fad",
   "metadata": {},
   "outputs": [],
   "source": [
    "# Maximum ride time \n",
    "df.groupby(\"member_casual\")[\"ride_length\"].max()"
   ]
  },
  {
   "cell_type": "code",
   "execution_count": null,
   "id": "a983b2a0",
   "metadata": {},
   "outputs": [],
   "source": [
    "# Most preferred weekdays (Mode)\n",
    "df.groupby(\"member_casual\")[\"weekday_name\"].agg(pd.Series.mode)"
   ]
  },
  {
   "cell_type": "code",
   "execution_count": null,
   "id": "c017b74c",
   "metadata": {},
   "outputs": [],
   "source": [
    "# Top 10 station name most preferred by casual members\n",
    "top_10 = df[df[\"member_casual\"]=='casual'].sort_values(\"ride_length\",ascending=False)[[\"start_station_name\",\"ride_length\"]].head(10).reset_index(drop=True)\n",
    "top_10.index += 1\n",
    "top_10"
   ]
  }
 ],
 "metadata": {
  "kernelspec": {
   "display_name": "Python 3 (ipykernel)",
   "language": "python",
   "name": "python3"
  },
  "language_info": {
   "codemirror_mode": {
    "name": "ipython",
    "version": 3
   },
   "file_extension": ".py",
   "mimetype": "text/x-python",
   "name": "python",
   "nbconvert_exporter": "python",
   "pygments_lexer": "ipython3",
   "version": "3.10.4"
  },
  "vscode": {
   "interpreter": {
    "hash": "73a88e8cba1278d10edc20e2d9dcde36e3afc898ffb2aba7775a35262b5a7670"
   }
  }
 },
 "nbformat": 4,
 "nbformat_minor": 5
}
